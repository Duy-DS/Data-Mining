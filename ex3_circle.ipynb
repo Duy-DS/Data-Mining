{
 "cells": [
  {
   "cell_type": "code",
   "execution_count": 2,
   "id": "f5fade34",
   "metadata": {},
   "outputs": [
    {
     "name": "stdout",
     "output_type": "stream",
     "text": [
      "Nhập vào bán kính r: \n",
      "Chu vi hình tròn là:  18.84\n",
      "Diện tích hình tròn là:  28.259999999999998\n"
     ]
    }
   ],
   "source": [
    "%run ex3_circle.py"
   ]
  },
  {
   "cell_type": "code",
   "execution_count": 3,
   "id": "5abced9c",
   "metadata": {},
   "outputs": [
    {
     "data": {
      "text/plain": [
       "3.0"
      ]
     },
     "execution_count": 3,
     "metadata": {},
     "output_type": "execute_result"
    }
   ],
   "source": [
    "r "
   ]
  },
  {
   "cell_type": "code",
   "execution_count": 4,
   "id": "87e52241",
   "metadata": {},
   "outputs": [
    {
     "data": {
      "text/plain": [
       "3.14"
      ]
     },
     "execution_count": 4,
     "metadata": {},
     "output_type": "execute_result"
    }
   ],
   "source": [
    "pi"
   ]
  }
 ],
 "metadata": {
  "kernelspec": {
   "display_name": "Python 3",
   "language": "python",
   "name": "python3"
  },
  "language_info": {
   "codemirror_mode": {
    "name": "ipython",
    "version": 3
   },
   "file_extension": ".py",
   "mimetype": "text/x-python",
   "name": "python",
   "nbconvert_exporter": "python",
   "pygments_lexer": "ipython3",
   "version": "3.13.7"
  }
 },
 "nbformat": 4,
 "nbformat_minor": 5
}
